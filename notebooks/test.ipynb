{
 "cells": [
  {
   "cell_type": "code",
   "execution_count": 3,
   "metadata": {},
   "outputs": [],
   "source": [
    "from pydub.playback import play"
   ]
  },
  {
   "cell_type": "code",
   "execution_count": 23,
   "metadata": {},
   "outputs": [],
   "source": [
    "\n",
    "import os\n",
    "from pydub import AudioSegment, silence, effects\n",
    "import uuid\n",
    "from unidecode import unidecode\n",
    "import json\n",
    "import numpy as np\n",
    "import io\n",
    "import scipy.io.wavfile\n",
    "import array\n",
    "\n",
    "\n",
    "def get_audio_metadata(audio):\n",
    "    meta =  {\n",
    "        \"sample_rate\": audio.frame_rate,\n",
    "        \"channels\": audio.channels, \n",
    "        \"bytes_per_sample\":audio.sample_width, # 1 means 8 bit, 2 means 16 bit   \n",
    "    }\n",
    "\n",
    "    return meta\n",
    "\n",
    "\n",
    "def save_sample_meta(audio_meta, segment, out_dir):\n",
    "    \n",
    "    # declare metadata and sample dirs\n",
    "    sample_dir = out_dir + '/samples/'\n",
    "    meta_dir = out_dir + '/metadata/'\n",
    "    \n",
    "    if not os.path.exists(sample_dir):\n",
    "        os.makedirs(sample_dir)\n",
    "    if not os.path.exists(meta_dir):\n",
    "        os.makedirs(meta_dir)\n",
    "    \n",
    "    sample_name = str(uuid.uuid4())\n",
    "    seg_path = os.path.join(sample_dir, sample_name+'.wav')\n",
    "    meta_path = os.path.join(meta_dir, sample_name+'.json')\n",
    "    \n",
    "    # here we can insert sample specific information on the metadata\n",
    "    segment_meta_dict = audio_meta.copy()\n",
    "    \n",
    "    # Save the segment\n",
    "    segment.export(seg_path, format='wav')\n",
    "    \n",
    "    # Save the metadata\n",
    "    with open(meta_path, 'w', encoding='utf8') as fp:\n",
    "        json.dump(segment_meta_dict, fp)\n",
    "        \n",
    "        \n",
    "def segment_audio(\n",
    "        file_path, out_dir, segment_length_s=10, target_sr=32000, n_channels=1,\n",
    "        cutoff='pad', overlap=0.0, normalize=False, denoise=False, desilence=False\n",
    "    ):\n",
    "\n",
    "    # Get file name without extension for caption\n",
    "    file_name = os.path.splitext(os.path.basename(file_path))[0]\n",
    "    file_name = unidecode(file_name.lower())\n",
    "    \n",
    "    # load audio\n",
    "    audio = AudioSegment.from_file(file_path)\n",
    "    \n",
    "    # resample\n",
    "    if target_sr is not None:\n",
    "        audio = audio.set_frame_rate(target_sr) # resample to target_sr\n",
    "    \n",
    "    # force mono/stereo          \n",
    "    if n_channels is not None:\n",
    "        audio = audio.set_channels(n_channels) # convert to mono\n",
    "    \n",
    "    if normalize:\n",
    "        pass\n",
    "    \n",
    "    # remove noise\n",
    "    \n",
    "    # remove silence\n",
    "    if desilence:\n",
    "        audio = remove_silence(audio)\n",
    "    \n",
    "    # Audio info dict\n",
    "    audio_metadata = get_audio_metadata(audio, file_name) \n",
    "    audio_metadata[\"title\"] = file_name.split('.')[0]\n",
    "    \n",
    "    # segment into segment_length_s samples\n",
    "    segment_length_ms = segment_length_s * 1000\n",
    "    step = int((1-overlap)*segment_length_ms)\n",
    "    for i in range(0, len(audio), step):\n",
    "        # create segment\n",
    "        start_time = i \n",
    "        end_time = i + segment_length_ms\n",
    "        segment = audio[start_time:end_time]\n",
    "\n",
    "        # pad or crop end-of-file samples\n",
    "        if end_time > len(audio):\n",
    "            if cutoff=='pad': # pad with silence (0 amplitude)\n",
    "                if len(segment) < 0.5*segment_length_ms: # pad at most 50% of the signal\n",
    "                    break\n",
    "                pad_len = segment_length_ms - len(segment)\n",
    "                silence = AudioSegment.silent(  \n",
    "                    duration=pad_len,\n",
    "                    frame_rate=segment.frame_rate\n",
    "                )\n",
    "                segment = segment + silence\n",
    "            \n",
    "            elif cutoff=='leave': # save sample smaller than segment_length_s\n",
    "                segment = audio[start_time:len(audio)] \n",
    "            \n",
    "            elif cutoff=='crop': # discard smaller sample\n",
    "                break\n",
    "            \n",
    "        save_sample_meta(out_dir)\n",
    "        \n",
    "def remove_silence(audio_segment):\n",
    "    silence_list = silence.detect_silence()\n",
    "    \n",
    "def normalize(audio_segment, kind='pydub'):\n",
    "    if kind == 'pydub':\n",
    "        return effects.normalize(audio_segment)\n",
    "    \n",
    "    elif kind == 'jukebox':\n",
    "        np_segment = np.array(audio_segment.get_array_of_samples(), dtype=np.float16).reshape((-1, audio_segment.channels)).T\n",
    "        \n",
    "        if np_segment.ndim == 1:\n",
    "            np_segment = np_segment[np.newaxis]\n",
    "        np_segment = np_segment.mean(axis=0)\n",
    "        \n",
    "        # normalize audio\n",
    "        norm_factor = np.abs(np_segment).max()\n",
    "        if norm_factor > 0:\n",
    "            np_segment /= norm_factor\n",
    "        np_segment = np_segment.flatten()\n",
    "        \n",
    "        wav_io = io.BytesIO()\n",
    "        scipy.io.wavfile.write(wav_io, audio_segment.frame_rate, np_segment)\n",
    "        wav_io.seek(0)\n",
    "        return AudioSegment.from_wav(wav_io)\n",
    "        \n",
    "        # array_segment = array.array(audio_segment.array_type, np_segment)\n",
    "        # return audio_segment._spawn(array_segment)       \n",
    "        "
   ]
  },
  {
   "cell_type": "code",
   "execution_count": 20,
   "metadata": {},
   "outputs": [],
   "source": [
    "audio = AudioSegment.from_file(\"/home/cvillela/dataland/data/hanwha/training/ds/samples/0a00e51a-fb1a-42b3-b471-60c656bd3255.wav\")"
   ]
  },
  {
   "cell_type": "code",
   "execution_count": null,
   "metadata": {},
   "outputs": [],
   "source": [
    "play(audio)"
   ]
  },
  {
   "cell_type": "code",
   "execution_count": null,
   "metadata": {},
   "outputs": [],
   "source": [
    "audio = normalize(audio, kind='pydub')\n",
    "play(audio)"
   ]
  },
  {
   "cell_type": "code",
   "execution_count": 24,
   "metadata": {},
   "outputs": [
    {
     "name": "stderr",
     "output_type": "stream",
     "text": [
      "/tmp/ipykernel_17538/4153650446.py:118: RuntimeWarning: overflow encountered in cast\n",
      "  np_segment = np.array(audio_segment.get_array_of_samples(), dtype=np.float16).reshape((-1, audio_segment.channels)).T\n",
      "/tmp/ipykernel_17538/4153650446.py:127: RuntimeWarning: invalid value encountered in divide\n",
      "  np_segment /= norm_factor\n"
     ]
    },
    {
     "ename": "TypeError",
     "evalue": "'numpy.float16' object cannot be interpreted as an integer",
     "output_type": "error",
     "traceback": [
      "\u001b[0;31m---------------------------------------------------------------------------\u001b[0m",
      "\u001b[0;31mTypeError\u001b[0m                                 Traceback (most recent call last)",
      "Cell \u001b[0;32mIn[24], line 1\u001b[0m\n\u001b[0;32m----> 1\u001b[0m audio \u001b[39m=\u001b[39m normalize(audio, kind\u001b[39m=\u001b[39;49m\u001b[39m'\u001b[39;49m\u001b[39mjukebox\u001b[39;49m\u001b[39m'\u001b[39;49m)\n",
      "Cell \u001b[0;32mIn[23], line 135\u001b[0m, in \u001b[0;36mnormalize\u001b[0;34m(audio_segment, kind)\u001b[0m\n\u001b[1;32m    128\u001b[0m np_segment \u001b[39m=\u001b[39m np_segment\u001b[39m.\u001b[39mflatten()\n\u001b[1;32m    131\u001b[0m \u001b[39m# wav_io = io.BytesIO()\u001b[39;00m\n\u001b[1;32m    132\u001b[0m \u001b[39m# scipy.io.wavfile.write(wav_io, 16000, np_segment)\u001b[39;00m\n\u001b[1;32m    133\u001b[0m \u001b[39m# wav_io.seek(0)\u001b[39;00m\n\u001b[1;32m    134\u001b[0m \u001b[39m# return AudioSegment.from_wav(wav_io)\u001b[39;00m\n\u001b[0;32m--> 135\u001b[0m array_segment \u001b[39m=\u001b[39m array\u001b[39m.\u001b[39;49marray(audio_segment\u001b[39m.\u001b[39;49marray_type, np_segment)\n\u001b[1;32m    136\u001b[0m \u001b[39mreturn\u001b[39;00m audio_segment\u001b[39m.\u001b[39m_spawn(array_segment)\n",
      "\u001b[0;31mTypeError\u001b[0m: 'numpy.float16' object cannot be interpreted as an integer"
     ]
    }
   ],
   "source": [
    "audio = normalize(audio, kind='jukebox')"
   ]
  },
  {
   "cell_type": "code",
   "execution_count": null,
   "metadata": {},
   "outputs": [],
   "source": []
  }
 ],
 "metadata": {
  "kernelspec": {
   "display_name": "ras_audio",
   "language": "python",
   "name": "python3"
  },
  "language_info": {
   "codemirror_mode": {
    "name": "ipython",
    "version": 3
   },
   "file_extension": ".py",
   "mimetype": "text/x-python",
   "name": "python",
   "nbconvert_exporter": "python",
   "pygments_lexer": "ipython3",
   "version": "3.11.5"
  },
  "orig_nbformat": 4
 },
 "nbformat": 4,
 "nbformat_minor": 2
}
