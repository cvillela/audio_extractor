{
 "cells": [
  {
   "cell_type": "markdown",
   "metadata": {},
   "source": [
    "# Imports and Constants"
   ]
  },
  {
   "cell_type": "code",
   "execution_count": null,
   "metadata": {},
   "outputs": [
    {
     "ename": "OSError",
     "evalue": "libmkl_intel_lp64.so.2: cannot open shared object file: No such file or directory",
     "output_type": "error",
     "traceback": [
      "\u001b[0;31m---------------------------------------------------------------------------\u001b[0m",
      "\u001b[0;31mOSError\u001b[0m                                   Traceback (most recent call last)",
      "Cell \u001b[0;32mIn[2], line 1\u001b[0m\n\u001b[0;32m----> 1\u001b[0m \u001b[39mimport\u001b[39;00m \u001b[39mtorch\u001b[39;00m\n",
      "File \u001b[0;32m~/anaconda3/envs/ras_audio/lib/python3.11/site-packages/torch/__init__.py:228\u001b[0m\n\u001b[1;32m    217\u001b[0m \u001b[39melse\u001b[39;00m:\n\u001b[1;32m    218\u001b[0m     \u001b[39m# Easy way.  You want this most of the time, because it will prevent\u001b[39;00m\n\u001b[1;32m    219\u001b[0m     \u001b[39m# C++ symbols from libtorch clobbering C++ symbols from other\u001b[39;00m\n\u001b[0;32m   (...)\u001b[0m\n\u001b[1;32m    225\u001b[0m     \u001b[39m#\u001b[39;00m\n\u001b[1;32m    226\u001b[0m     \u001b[39m# See Note [Global dependencies]\u001b[39;00m\n\u001b[1;32m    227\u001b[0m     \u001b[39mif\u001b[39;00m USE_GLOBAL_DEPS:\n\u001b[0;32m--> 228\u001b[0m         _load_global_deps()\n\u001b[1;32m    229\u001b[0m     \u001b[39mfrom\u001b[39;00m \u001b[39mtorch\u001b[39;00m\u001b[39m.\u001b[39;00m\u001b[39m_C\u001b[39;00m \u001b[39mimport\u001b[39;00m \u001b[39m*\u001b[39m  \u001b[39m# noqa: F403\u001b[39;00m\n\u001b[1;32m    231\u001b[0m \u001b[39m# Appease the type checker; ordinarily this binding is inserted by the\u001b[39;00m\n\u001b[1;32m    232\u001b[0m \u001b[39m# torch._C module initialization code in C\u001b[39;00m\n",
      "File \u001b[0;32m~/anaconda3/envs/ras_audio/lib/python3.11/site-packages/torch/__init__.py:187\u001b[0m, in \u001b[0;36m_load_global_deps\u001b[0;34m()\u001b[0m\n\u001b[1;32m    185\u001b[0m is_cuda_lib_err \u001b[39m=\u001b[39m [lib \u001b[39mfor\u001b[39;00m lib \u001b[39min\u001b[39;00m cuda_libs\u001b[39m.\u001b[39mvalues() \u001b[39mif\u001b[39;00m(lib\u001b[39m.\u001b[39msplit(\u001b[39m'\u001b[39m\u001b[39m.\u001b[39m\u001b[39m'\u001b[39m)[\u001b[39m0\u001b[39m] \u001b[39min\u001b[39;00m err\u001b[39m.\u001b[39margs[\u001b[39m0\u001b[39m])]\n\u001b[1;32m    186\u001b[0m \u001b[39mif\u001b[39;00m \u001b[39mnot\u001b[39;00m is_cuda_lib_err:\n\u001b[0;32m--> 187\u001b[0m     \u001b[39mraise\u001b[39;00m err\n\u001b[1;32m    188\u001b[0m \u001b[39mfor\u001b[39;00m lib_folder, lib_name \u001b[39min\u001b[39;00m cuda_libs\u001b[39m.\u001b[39mitems():\n\u001b[1;32m    189\u001b[0m     _preload_cuda_deps(lib_folder, lib_name)\n",
      "File \u001b[0;32m~/anaconda3/envs/ras_audio/lib/python3.11/site-packages/torch/__init__.py:168\u001b[0m, in \u001b[0;36m_load_global_deps\u001b[0;34m()\u001b[0m\n\u001b[1;32m    165\u001b[0m lib_path \u001b[39m=\u001b[39m os\u001b[39m.\u001b[39mpath\u001b[39m.\u001b[39mjoin(os\u001b[39m.\u001b[39mpath\u001b[39m.\u001b[39mdirname(here), \u001b[39m'\u001b[39m\u001b[39mlib\u001b[39m\u001b[39m'\u001b[39m, lib_name)\n\u001b[1;32m    167\u001b[0m \u001b[39mtry\u001b[39;00m:\n\u001b[0;32m--> 168\u001b[0m     ctypes\u001b[39m.\u001b[39;49mCDLL(lib_path, mode\u001b[39m=\u001b[39;49mctypes\u001b[39m.\u001b[39;49mRTLD_GLOBAL)\n\u001b[1;32m    169\u001b[0m \u001b[39mexcept\u001b[39;00m \u001b[39mOSError\u001b[39;00m \u001b[39mas\u001b[39;00m err:\n\u001b[1;32m    170\u001b[0m     \u001b[39m# Can only happen for wheel with cuda libs as PYPI deps\u001b[39;00m\n\u001b[1;32m    171\u001b[0m     \u001b[39m# As PyTorch is not purelib, but nvidia-*-cu11 is\u001b[39;00m\n\u001b[1;32m    172\u001b[0m     cuda_libs: Dict[\u001b[39mstr\u001b[39m, \u001b[39mstr\u001b[39m] \u001b[39m=\u001b[39m {\n\u001b[1;32m    173\u001b[0m         \u001b[39m'\u001b[39m\u001b[39mcublas\u001b[39m\u001b[39m'\u001b[39m: \u001b[39m'\u001b[39m\u001b[39mlibcublas.so.*[0-9]\u001b[39m\u001b[39m'\u001b[39m,\n\u001b[1;32m    174\u001b[0m         \u001b[39m'\u001b[39m\u001b[39mcudnn\u001b[39m\u001b[39m'\u001b[39m: \u001b[39m'\u001b[39m\u001b[39mlibcudnn.so.*[0-9]\u001b[39m\u001b[39m'\u001b[39m,\n\u001b[0;32m   (...)\u001b[0m\n\u001b[1;32m    183\u001b[0m         \u001b[39m'\u001b[39m\u001b[39mnvtx\u001b[39m\u001b[39m'\u001b[39m: \u001b[39m'\u001b[39m\u001b[39mlibnvToolsExt.so.*[0-9]\u001b[39m\u001b[39m'\u001b[39m,\n\u001b[1;32m    184\u001b[0m     }\n",
      "File \u001b[0;32m~/anaconda3/envs/ras_audio/lib/python3.11/ctypes/__init__.py:376\u001b[0m, in \u001b[0;36mCDLL.__init__\u001b[0;34m(self, name, mode, handle, use_errno, use_last_error, winmode)\u001b[0m\n\u001b[1;32m    373\u001b[0m \u001b[39mself\u001b[39m\u001b[39m.\u001b[39m_FuncPtr \u001b[39m=\u001b[39m _FuncPtr\n\u001b[1;32m    375\u001b[0m \u001b[39mif\u001b[39;00m handle \u001b[39mis\u001b[39;00m \u001b[39mNone\u001b[39;00m:\n\u001b[0;32m--> 376\u001b[0m     \u001b[39mself\u001b[39m\u001b[39m.\u001b[39m_handle \u001b[39m=\u001b[39m _dlopen(\u001b[39mself\u001b[39;49m\u001b[39m.\u001b[39;49m_name, mode)\n\u001b[1;32m    377\u001b[0m \u001b[39melse\u001b[39;00m:\n\u001b[1;32m    378\u001b[0m     \u001b[39mself\u001b[39m\u001b[39m.\u001b[39m_handle \u001b[39m=\u001b[39m handle\n",
      "\u001b[0;31mOSError\u001b[0m: libmkl_intel_lp64.so.2: cannot open shared object file: No such file or directory"
     ]
    }
   ],
   "source": [
    "import torch"
   ]
  },
  {
   "cell_type": "code",
   "execution_count": 1,
   "metadata": {},
   "outputs": [
    {
     "ename": "OSError",
     "evalue": "libmkl_intel_lp64.so.2: cannot open shared object file: No such file or directory",
     "output_type": "error",
     "traceback": [
      "\u001b[0;31m---------------------------------------------------------------------------\u001b[0m",
      "\u001b[0;31mOSError\u001b[0m                                   Traceback (most recent call last)",
      "Cell \u001b[0;32mIn[1], line 1\u001b[0m\n\u001b[0;32m----> 1\u001b[0m \u001b[39mimport\u001b[39;00m \u001b[39mjukemirlib\u001b[39;00m\n\u001b[1;32m      2\u001b[0m \u001b[39m# from pydub import AudioSegment\u001b[39;00m\n\u001b[1;32m      3\u001b[0m \u001b[39m# from tqdm import tqdm\u001b[39;00m\n\u001b[1;32m      4\u001b[0m \u001b[39m# import numpy as np\u001b[39;00m\n\u001b[1;32m      5\u001b[0m \u001b[39m# import os\u001b[39;00m\n\u001b[1;32m      6\u001b[0m \u001b[39m# import IPython.display as ipd\u001b[39;00m\n",
      "File \u001b[0;32m~/anaconda3/envs/ras_audio/lib/python3.11/site-packages/jukemirlib/__init__.py:1\u001b[0m\n\u001b[0;32m----> 1\u001b[0m \u001b[39mfrom\u001b[39;00m \u001b[39m.\u001b[39;00m\u001b[39mconstants\u001b[39;00m \u001b[39mimport\u001b[39;00m \u001b[39m*\u001b[39m\n\u001b[1;32m      2\u001b[0m \u001b[39mfrom\u001b[39;00m \u001b[39m.\u001b[39;00m\u001b[39mlib\u001b[39;00m \u001b[39mimport\u001b[39;00m \u001b[39m*\u001b[39m\n\u001b[1;32m      3\u001b[0m \u001b[39mfrom\u001b[39;00m \u001b[39m.\u001b[39;00m\u001b[39msetup_models\u001b[39;00m \u001b[39mimport\u001b[39;00m \u001b[39m*\u001b[39m\n",
      "File \u001b[0;32m~/anaconda3/envs/ras_audio/lib/python3.11/site-packages/jukemirlib/constants.py:1\u001b[0m\n\u001b[0;32m----> 1\u001b[0m \u001b[39mimport\u001b[39;00m \u001b[39mtorch\u001b[39;00m \u001b[39mas\u001b[39;00m \u001b[39mt\u001b[39;00m\n\u001b[1;32m      2\u001b[0m \u001b[39mimport\u001b[39;00m \u001b[39mos\u001b[39;00m\n\u001b[1;32m      4\u001b[0m \u001b[39mglobal\u001b[39;00m VQVAE, TOP_PRIOR, DEVICE, x_cond, y_cond\n",
      "File \u001b[0;32m~/anaconda3/envs/ras_audio/lib/python3.11/site-packages/torch/__init__.py:228\u001b[0m\n\u001b[1;32m    217\u001b[0m \u001b[39melse\u001b[39;00m:\n\u001b[1;32m    218\u001b[0m     \u001b[39m# Easy way.  You want this most of the time, because it will prevent\u001b[39;00m\n\u001b[1;32m    219\u001b[0m     \u001b[39m# C++ symbols from libtorch clobbering C++ symbols from other\u001b[39;00m\n\u001b[0;32m   (...)\u001b[0m\n\u001b[1;32m    225\u001b[0m     \u001b[39m#\u001b[39;00m\n\u001b[1;32m    226\u001b[0m     \u001b[39m# See Note [Global dependencies]\u001b[39;00m\n\u001b[1;32m    227\u001b[0m     \u001b[39mif\u001b[39;00m USE_GLOBAL_DEPS:\n\u001b[0;32m--> 228\u001b[0m         _load_global_deps()\n\u001b[1;32m    229\u001b[0m     \u001b[39mfrom\u001b[39;00m \u001b[39mtorch\u001b[39;00m\u001b[39m.\u001b[39;00m\u001b[39m_C\u001b[39;00m \u001b[39mimport\u001b[39;00m \u001b[39m*\u001b[39m  \u001b[39m# noqa: F403\u001b[39;00m\n\u001b[1;32m    231\u001b[0m \u001b[39m# Appease the type checker; ordinarily this binding is inserted by the\u001b[39;00m\n\u001b[1;32m    232\u001b[0m \u001b[39m# torch._C module initialization code in C\u001b[39;00m\n",
      "File \u001b[0;32m~/anaconda3/envs/ras_audio/lib/python3.11/site-packages/torch/__init__.py:187\u001b[0m, in \u001b[0;36m_load_global_deps\u001b[0;34m()\u001b[0m\n\u001b[1;32m    185\u001b[0m is_cuda_lib_err \u001b[39m=\u001b[39m [lib \u001b[39mfor\u001b[39;00m lib \u001b[39min\u001b[39;00m cuda_libs\u001b[39m.\u001b[39mvalues() \u001b[39mif\u001b[39;00m(lib\u001b[39m.\u001b[39msplit(\u001b[39m'\u001b[39m\u001b[39m.\u001b[39m\u001b[39m'\u001b[39m)[\u001b[39m0\u001b[39m] \u001b[39min\u001b[39;00m err\u001b[39m.\u001b[39margs[\u001b[39m0\u001b[39m])]\n\u001b[1;32m    186\u001b[0m \u001b[39mif\u001b[39;00m \u001b[39mnot\u001b[39;00m is_cuda_lib_err:\n\u001b[0;32m--> 187\u001b[0m     \u001b[39mraise\u001b[39;00m err\n\u001b[1;32m    188\u001b[0m \u001b[39mfor\u001b[39;00m lib_folder, lib_name \u001b[39min\u001b[39;00m cuda_libs\u001b[39m.\u001b[39mitems():\n\u001b[1;32m    189\u001b[0m     _preload_cuda_deps(lib_folder, lib_name)\n",
      "File \u001b[0;32m~/anaconda3/envs/ras_audio/lib/python3.11/site-packages/torch/__init__.py:168\u001b[0m, in \u001b[0;36m_load_global_deps\u001b[0;34m()\u001b[0m\n\u001b[1;32m    165\u001b[0m lib_path \u001b[39m=\u001b[39m os\u001b[39m.\u001b[39mpath\u001b[39m.\u001b[39mjoin(os\u001b[39m.\u001b[39mpath\u001b[39m.\u001b[39mdirname(here), \u001b[39m'\u001b[39m\u001b[39mlib\u001b[39m\u001b[39m'\u001b[39m, lib_name)\n\u001b[1;32m    167\u001b[0m \u001b[39mtry\u001b[39;00m:\n\u001b[0;32m--> 168\u001b[0m     ctypes\u001b[39m.\u001b[39;49mCDLL(lib_path, mode\u001b[39m=\u001b[39;49mctypes\u001b[39m.\u001b[39;49mRTLD_GLOBAL)\n\u001b[1;32m    169\u001b[0m \u001b[39mexcept\u001b[39;00m \u001b[39mOSError\u001b[39;00m \u001b[39mas\u001b[39;00m err:\n\u001b[1;32m    170\u001b[0m     \u001b[39m# Can only happen for wheel with cuda libs as PYPI deps\u001b[39;00m\n\u001b[1;32m    171\u001b[0m     \u001b[39m# As PyTorch is not purelib, but nvidia-*-cu11 is\u001b[39;00m\n\u001b[1;32m    172\u001b[0m     cuda_libs: Dict[\u001b[39mstr\u001b[39m, \u001b[39mstr\u001b[39m] \u001b[39m=\u001b[39m {\n\u001b[1;32m    173\u001b[0m         \u001b[39m'\u001b[39m\u001b[39mcublas\u001b[39m\u001b[39m'\u001b[39m: \u001b[39m'\u001b[39m\u001b[39mlibcublas.so.*[0-9]\u001b[39m\u001b[39m'\u001b[39m,\n\u001b[1;32m    174\u001b[0m         \u001b[39m'\u001b[39m\u001b[39mcudnn\u001b[39m\u001b[39m'\u001b[39m: \u001b[39m'\u001b[39m\u001b[39mlibcudnn.so.*[0-9]\u001b[39m\u001b[39m'\u001b[39m,\n\u001b[0;32m   (...)\u001b[0m\n\u001b[1;32m    183\u001b[0m         \u001b[39m'\u001b[39m\u001b[39mnvtx\u001b[39m\u001b[39m'\u001b[39m: \u001b[39m'\u001b[39m\u001b[39mlibnvToolsExt.so.*[0-9]\u001b[39m\u001b[39m'\u001b[39m,\n\u001b[1;32m    184\u001b[0m     }\n",
      "File \u001b[0;32m~/anaconda3/envs/ras_audio/lib/python3.11/ctypes/__init__.py:376\u001b[0m, in \u001b[0;36mCDLL.__init__\u001b[0;34m(self, name, mode, handle, use_errno, use_last_error, winmode)\u001b[0m\n\u001b[1;32m    373\u001b[0m \u001b[39mself\u001b[39m\u001b[39m.\u001b[39m_FuncPtr \u001b[39m=\u001b[39m _FuncPtr\n\u001b[1;32m    375\u001b[0m \u001b[39mif\u001b[39;00m handle \u001b[39mis\u001b[39;00m \u001b[39mNone\u001b[39;00m:\n\u001b[0;32m--> 376\u001b[0m     \u001b[39mself\u001b[39m\u001b[39m.\u001b[39m_handle \u001b[39m=\u001b[39m _dlopen(\u001b[39mself\u001b[39;49m\u001b[39m.\u001b[39;49m_name, mode)\n\u001b[1;32m    377\u001b[0m \u001b[39melse\u001b[39;00m:\n\u001b[1;32m    378\u001b[0m     \u001b[39mself\u001b[39m\u001b[39m.\u001b[39m_handle \u001b[39m=\u001b[39m handle\n",
      "\u001b[0;31mOSError\u001b[0m: libmkl_intel_lp64.so.2: cannot open shared object file: No such file or directory"
     ]
    }
   ],
   "source": [
    "import jukemirlib\n",
    "# from pydub import AudioSegment\n",
    "# from tqdm import tqdm\n",
    "# import numpy as np\n",
    "# import os\n",
    "# import IPython.display as ipd"
   ]
  },
  {
   "cell_type": "code",
   "execution_count": 2,
   "metadata": {},
   "outputs": [],
   "source": [
    "JUKEBOX_SR = 44100\n",
    "CTX_WINDOW_LENGTH = 1048576"
   ]
  },
  {
   "cell_type": "markdown",
   "metadata": {},
   "source": [
    "# Functions"
   ]
  },
  {
   "cell_type": "code",
   "execution_count": 3,
   "metadata": {},
   "outputs": [],
   "source": [
    "def extract_jukebox_samples(file_path, segment_length_s=10, cutoff='pad', overlap=0.1):\n",
    "\n",
    "    audio = AudioSegment.from_file(file_path)\n",
    "    audio = audio.set_frame_rate(JUKEBOX_SR) # convert to JUKEBOX_SR    \n",
    "    \n",
    "    segment_length_ms = segment_length_s * 1000\n",
    "    step = int((1-overlap)*segment_length_ms)\n",
    "    sample_len = int(JUKEBOX_SR*segment_length_s)\n",
    "    \n",
    "    segment_array = []\n",
    "    for i in range(0, len(audio), step):\n",
    "        # create segment\n",
    "        start_time = i \n",
    "        end_time = i + segment_length_ms\n",
    "        segment = audio[start_time:end_time]\n",
    "        \n",
    "        # to np array\n",
    "        segment = np.array(segment.get_array_of_samples(), dtype=np.float16).reshape((-1, segment.channels))\n",
    "        segment = segment.T\n",
    "        \n",
    "        if segment.ndim == 1:\n",
    "            segment = segment[np.newaxis]\n",
    "        segment = segment.mean(axis=0)\n",
    "\n",
    "        # normalize audio\n",
    "        norm_factor = np.abs(segment).max()\n",
    "        if norm_factor > 0:\n",
    "            segment /= norm_factor\n",
    "        segment = segment.flatten()\n",
    "        # pad or crop end-of-file samples\n",
    "        if len(segment) < sample_len:\n",
    "            if cutoff=='pad':\n",
    "                #pad at most 50% of the signal, dispose of the rest\n",
    "                if len(segment) < 0.5*sample_len:\n",
    "                    break\n",
    "                # Pad Length\n",
    "                pad_len = sample_len - len(segment)\n",
    "                # Pad with 0s\n",
    "                pad = np.zeros(pad_len)\n",
    "                segment = np.concatenate((segment,pad), axis=0)\n",
    "            elif cutoff=='leave':\n",
    "                segment = audio[start_time:len(audio)]\n",
    "            elif cutoff=='crop':\n",
    "                break\n",
    "        segment_array.append(segment)\n",
    "    return segment_array"
   ]
  },
  {
   "cell_type": "code",
   "execution_count": 4,
   "metadata": {},
   "outputs": [],
   "source": [
    "def batch_extract_jukebox(audio_samples, meanpool=False, mult_factor = 100):\n",
    "    assert mult_factor <= 1722\n",
    "    embs = jukemirlib.extract(audio_samples, layers=[36], meanpool=meanpool)[36]\n",
    "    # print(f\"init_shape = {embs.shape}\")\n",
    "    split_embeddings = np.array_split(embs, mult_factor, axis=1)\n",
    "    mean_splits = [np.mean(arr, axis=1) for arr in split_embeddings]\n",
    "    final_embs = np.vstack(mean_splits)\n",
    "    # print(f\"final_shape = {final_embs.shape}\")\n",
    "    return final_embs"
   ]
  },
  {
   "cell_type": "code",
   "execution_count": 5,
   "metadata": {},
   "outputs": [],
   "source": [
    "# this function extracts jukebox ready samples from an audio file.\n",
    "\n",
    "def extract_jukebox_embeddings(file_path, segment_length_s=10, cutoff='pad', overlap=0.1, meanpool_bool=True):\n",
    "    audio = AudioSegment.from_file(file_path)\n",
    "    audio = audio.set_frame_rate(JUKEBOX_SR) # convert to JUKEBOX_SR    \n",
    "    \n",
    "    segment_length_ms = segment_length_s * 1000\n",
    "    step = int((1-overlap)*segment_length_ms)\n",
    "    sample_len = int(JUKEBOX_SR*segment_length_s)\n",
    "    \n",
    "    emb_array = []\n",
    "    for i in range(0, len(audio), step):\n",
    "        # create segment\n",
    "        start_time = i \n",
    "        end_time = i + segment_length_ms\n",
    "        segment = audio[start_time:end_time]\n",
    "        \n",
    "        # to np array\n",
    "        segment = np.array(segment.get_array_of_samples(), dtype=np.float32).reshape((-1, segment.channels))\n",
    "        segment = segment.T\n",
    "        \n",
    "        if segment.ndim == 1:\n",
    "            segment = segment[np.newaxis]\n",
    "        segment = segment.mean(axis=0)\n",
    "\n",
    "        # normalize audio\n",
    "        norm_factor = np.abs(segment).max()\n",
    "        if norm_factor > 0:\n",
    "            segment /= norm_factor\n",
    "        segment = segment.flatten()\n",
    "        # pad or crop end-of-file samples\n",
    "        if len(segment) < sample_len:\n",
    "            if cutoff=='pad':\n",
    "                #pad at most 50% of the signal, dispose of the rest\n",
    "                if len(segment) < 0.5*sample_len:\n",
    "                    break\n",
    "                # Pad Length\n",
    "                pad_len = sample_len - len(segment)\n",
    "                # Pad with 0s\n",
    "                pad = np.zeros(pad_len)\n",
    "                segment = np.concatenate((segment,pad), axis=0)\n",
    "            elif cutoff=='leave':\n",
    "                segment = audio[start_time:len(audio)]\n",
    "            elif cutoff=='crop':\n",
    "                break\n",
    "\n",
    "        emb_array.append(jukemirlib.extract(audio=segment.flatten(), layers=[36], meanpool=meanpool_bool)[36])\n",
    "    return emb_array"
   ]
  },
  {
   "cell_type": "markdown",
   "metadata": {},
   "source": [
    "# Get Files"
   ]
  },
  {
   "cell_type": "code",
   "execution_count": 6,
   "metadata": {},
   "outputs": [
    {
     "name": "stdout",
     "output_type": "stream",
     "text": [
      "Listed 9961 files\n"
     ]
    }
   ],
   "source": [
    "TRAIN_PATH = \"/home/cvillela/dataland/data/hanwha/training/source/\"\n",
    "VAL_PATH = \"/home/cvillela/dataland/data/hanwha/validation/source/\"\n",
    "\n",
    "file_paths = []\n",
    "for dirpath, dirnames, filenames in os.walk(TRAIN_PATH):\n",
    "        for file_name in filenames:\n",
    "            if file_name.endswith('.wav'):\n",
    "                file_paths.append(os.path.join(dirpath,file_name))\n",
    "for dirpath, dirnames, filenames in os.walk(VAL_PATH):\n",
    "        for file_name in filenames:\n",
    "            if file_name.endswith('.wav'):\n",
    "                file_paths.append(os.path.join(dirpath,file_name))\n",
    "print(f\"Listed {len(file_paths)} files\")           "
   ]
  },
  {
   "cell_type": "markdown",
   "metadata": {},
   "source": [
    "# Extract Embeddings"
   ]
  },
  {
   "cell_type": "code",
   "execution_count": 7,
   "metadata": {},
   "outputs": [],
   "source": [
    "sample_duration = 5\n",
    "overlap = 0.1\n",
    "meanpool_bool = False\n",
    "cutoff = 'pad'\n",
    "batch_size = 4\n",
    "mult_factor = 100"
   ]
  },
  {
   "cell_type": "markdown",
   "metadata": {},
   "source": [
    "## Batched"
   ]
  },
  {
   "cell_type": "code",
   "execution_count": 8,
   "metadata": {},
   "outputs": [
    {
     "name": "stderr",
     "output_type": "stream",
     "text": [
      "  0%|          | 0/9961 [00:00<?, ?it/s]"
     ]
    },
    {
     "name": "stdout",
     "output_type": "stream",
     "text": [
      "Importing jukebox and associated packages...\n",
      "Setting up the VQ-VAE...\n",
      "Loading vqvae in eval mode\n",
      "Setting up the top prior...\n",
      "Loading artist IDs from /home/cvillela/anaconda3/envs/audio_ext/lib/python3.11/site-packages/jukebox/data/ids/v2_artist_ids.txt\n",
      "Loading artist IDs from /home/cvillela/anaconda3/envs/audio_ext/lib/python3.11/site-packages/jukebox/data/ids/v2_genre_ids.txt\n",
      "Level:2, Cond downsample:None, Raw to tokens:128, Sample length:1048576\n",
      "Converting to fp16 params\n",
      "Loading prior in eval mode\n",
      "Loading the top prior weights into memory...\n"
     ]
    },
    {
     "name": "stderr",
     "output_type": "stream",
     "text": [
      "100%|██████████| 872/872 [00:00<00:00, 1272.30it/s]\n",
      "100%|██████████| 669/669 [00:00<00:00, 54436.61it/s]\n",
      "100%|██████████| 9961/9961 [3:24:01<00:00,  1.23s/it]  \n"
     ]
    }
   ],
   "source": [
    "i = 0\n",
    "emb_list = []\n",
    "sample_list = []\n",
    "\n",
    "for f in tqdm(file_paths):\n",
    "    sample_list = sample_list + extract_jukebox_samples(f, segment_length_s=sample_duration, overlap=overlap, cutoff='pad')\n",
    "    if len(sample_list) >= batch_size:\n",
    "        while len(sample_list) >= batch_size:\n",
    "            curr_batch = []\n",
    "            for _ in range(batch_size):\n",
    "                curr_batch.append(sample_list.pop())\n",
    "            emb_list.append(batch_extract_jukebox(curr_batch, meanpool=meanpool_bool, mult_factor = mult_factor))\n",
    "    if len(emb_list) > 1000:\n",
    "        i+=1\n",
    "        emb_list = np.vstack(emb_list)\n",
    "        np.save(f\"/home/cvillela/dataland/data/hanwha/embeddings/jukebox_m{mult_factor}_{i}.npy\", emb_list)\n",
    "        emb_list = []\n",
    "        break\n",
    "    \n",
    "if len(sample_list)>0:\n",
    "    i+=1\n",
    "    emb_list.append(batch_extract_jukebox(curr_batch, meanpool=meanpool_bool, mult_factor = mult_factor))\n",
    "    emb_list = np.vstack(emb_list)\n",
    "    np.save(f\"/home/cvillela/dataland/data/hanwha/embeddings/jukebox_m{mult_factor}_{i}.npy\", emb_list)\n",
    "    emb_list = []"
   ]
  },
  {
   "cell_type": "markdown",
   "metadata": {},
   "source": [
    "## One by one"
   ]
  },
  {
   "cell_type": "code",
   "execution_count": null,
   "metadata": {},
   "outputs": [],
   "source": [
    "emb_list = []\n",
    "for f in tqdm(file_paths):\n",
    "    emb_list = emb_list + extract_jukebox_embeddings(f, segment_length_s=sample_duration, overlap=overlap, cutoff='crop', meanpool_bool=meanpool_bool)"
   ]
  },
  {
   "cell_type": "code",
   "execution_count": null,
   "metadata": {},
   "outputs": [],
   "source": [
    "embs = np.vstack(emb_list)\n",
    "embs.shape"
   ]
  },
  {
   "cell_type": "code",
   "execution_count": null,
   "metadata": {},
   "outputs": [],
   "source": [
    "embs = np.vstack(emb_list)\n",
    "np.save(\"/home/cvillela/dataland/data/hanwha/embeddings/\",embs)"
   ]
  },
  {
   "cell_type": "code",
   "execution_count": null,
   "metadata": {},
   "outputs": [],
   "source": [
    "csv_dir = \"/home/cvillela/dataland/umapper/data/hanwha/\" \n",
    "file_paths = [\n",
    "        # File paths...\n",
    "       \"/home/cvillela/dataland/umapper/data/hanwha/search_1.npy\",\n",
    "       \"/home/cvillela/dataland/umapper/data/hanwha/search_2.npy\",\n",
    "       \"/home/cvillela/dataland/umapper/data/hanwha/search_3.npy\",\n",
    "       \"/home/cvillela/dataland/umapper/data/hanwha/search_4.npy\",\n",
    "       \"/home/cvillela/dataland/umapper/data/hanwha/search_5.npy\",\n",
    "       \"/home/cvillela/dataland/umapper/data/hanwha/search_6.npy\",\n",
    "       \n",
    "    ]"
   ]
  },
  {
   "cell_type": "code",
   "execution_count": null,
   "metadata": {},
   "outputs": [],
   "source": [
    "import numpy as np"
   ]
  },
  {
   "cell_type": "code",
   "execution_count": null,
   "metadata": {},
   "outputs": [],
   "source": [
    "for f in file_paths:\n",
    "    arr = np.load(f)\n",
    "    np.savetxt(f.split('.')[0]+'.csv', arr, delimiter=\",\")"
   ]
  },
  {
   "cell_type": "code",
   "execution_count": null,
   "metadata": {},
   "outputs": [],
   "source": []
  }
 ],
 "metadata": {
  "kernelspec": {
   "display_name": "Python 3 (ipykernel)",
   "language": "python",
   "name": "python3"
  },
  "language_info": {
   "codemirror_mode": {
    "name": "ipython",
    "version": 3
   },
   "file_extension": ".py",
   "mimetype": "text/x-python",
   "name": "python",
   "nbconvert_exporter": "python",
   "pygments_lexer": "ipython3",
   "version": "3.11.5"
  }
 },
 "nbformat": 4,
 "nbformat_minor": 4
}
