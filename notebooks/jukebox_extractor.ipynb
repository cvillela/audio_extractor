{
 "cells": [
  {
   "cell_type": "markdown",
   "metadata": {},
   "source": [
    "# Imports and Constants"
   ]
  },
  {
   "cell_type": "code",
   "execution_count": 3,
   "metadata": {},
   "outputs": [],
   "source": [
    "import jukemirlib\n",
    "from pydub import AudioSegment\n",
    "from tqdm import tqdm\n",
    "import numpy as np\n",
    "import os\n",
    "import IPython.display as ipd"
   ]
  },
  {
   "cell_type": "code",
   "execution_count": null,
   "metadata": {},
   "outputs": [],
   "source": [
    "JUKEBOX_SR = 44100\n",
    "CTX_WINDOW_LENGTH = 1048576"
   ]
  },
  {
   "cell_type": "markdown",
   "metadata": {},
   "source": [
    "# Functions"
   ]
  },
  {
   "cell_type": "code",
   "execution_count": null,
   "metadata": {},
   "outputs": [],
   "source": [
    "def extract_jukebox_samples(file_path, segment_length_s=10, cutoff='pad', overlap=0.1):\n",
    "\n",
    "    audio = AudioSegment.from_file(file_path)\n",
    "    audio = audio.set_frame_rate(JUKEBOX_SR) # convert to JUKEBOX_SR    \n",
    "    \n",
    "    segment_length_ms = segment_length_s * 1000\n",
    "    step = int((1-overlap)*segment_length_ms)\n",
    "    sample_len = int(JUKEBOX_SR*segment_length_s)\n",
    "    \n",
    "    segment_array = []\n",
    "    for i in range(0, len(audio), step):\n",
    "        # create segment\n",
    "        start_time = i \n",
    "        end_time = i + segment_length_ms\n",
    "        segment = audio[start_time:end_time]\n",
    "        \n",
    "        # to np array\n",
    "        segment = np.array(segment.get_array_of_samples(), dtype=np.float16).reshape((-1, segment.channels))\n",
    "        segment = segment.T\n",
    "        \n",
    "        if segment.ndim == 1:\n",
    "            segment = segment[np.newaxis]\n",
    "        segment = segment.mean(axis=0)\n",
    "\n",
    "        # normalize audio\n",
    "        norm_factor = np.abs(segment).max()\n",
    "        if norm_factor > 0:\n",
    "            segment /= norm_factor\n",
    "        segment = segment.flatten()\n",
    "        # pad or crop end-of-file samples\n",
    "        if len(segment) < sample_len:\n",
    "            if cutoff=='pad':\n",
    "                #pad at most 50% of the signal, dispose of the rest\n",
    "                if len(segment) < 0.5*sample_len:\n",
    "                    break\n",
    "                # Pad Length\n",
    "                pad_len = sample_len - len(segment)\n",
    "                # Pad with 0s\n",
    "                pad = np.zeros(pad_len)\n",
    "                segment = np.concatenate((segment,pad), axis=0)\n",
    "            elif cutoff=='leave':\n",
    "                segment = audio[start_time:len(audio)]\n",
    "            elif cutoff=='crop':\n",
    "                break\n",
    "        segment_array.append(segment)\n",
    "    return segment_array"
   ]
  },
  {
   "cell_type": "code",
   "execution_count": null,
   "metadata": {},
   "outputs": [],
   "source": [
    "def batch_extract_jukebox(audio_samples, meanpool=False, mult_factor = 100):\n",
    "    assert mult_factor <= 1722\n",
    "    embs = jukemirlib.extract(audio_samples, layers=[36], meanpool=meanpool)[36]\n",
    "    # print(f\"init_shape = {embs.shape}\")\n",
    "    split_embeddings = np.array_split(embs, mult_factor, axis=1)\n",
    "    mean_splits = [np.mean(arr, axis=1) for arr in split_embeddings]\n",
    "    final_embs = np.vstack(mean_splits)\n",
    "    # print(f\"final_shape = {final_embs.shape}\")\n",
    "    return final_embs"
   ]
  },
  {
   "cell_type": "code",
   "execution_count": null,
   "metadata": {},
   "outputs": [],
   "source": [
    "# this function extracts jukebox ready samples from an audio file.\n",
    "\n",
    "def extract_jukebox_embeddings(file_path, segment_length_s=10, cutoff='pad', overlap=0.1, meanpool_bool=True):\n",
    "    audio = AudioSegment.from_file(file_path)\n",
    "    audio = audio.set_frame_rate(JUKEBOX_SR) # convert to JUKEBOX_SR    \n",
    "    \n",
    "    segment_length_ms = segment_length_s * 1000\n",
    "    step = int((1-overlap)*segment_length_ms)\n",
    "    sample_len = int(JUKEBOX_SR*segment_length_s)\n",
    "    \n",
    "    emb_array = []\n",
    "    for i in range(0, len(audio), step):\n",
    "        # create segment\n",
    "        start_time = i \n",
    "        end_time = i + segment_length_ms\n",
    "        segment = audio[start_time:end_time]\n",
    "        \n",
    "        # to np array\n",
    "        segment = np.array(segment.get_array_of_samples(), dtype=np.float32).reshape((-1, segment.channels))\n",
    "        segment = segment.T\n",
    "        \n",
    "        if segment.ndim == 1:\n",
    "            segment = segment[np.newaxis]\n",
    "        segment = segment.mean(axis=0)\n",
    "\n",
    "        # normalize audio\n",
    "        norm_factor = np.abs(segment).max()\n",
    "        if norm_factor > 0:\n",
    "            segment /= norm_factor\n",
    "        segment = segment.flatten()\n",
    "        # pad or crop end-of-file samples\n",
    "        if len(segment) < sample_len:\n",
    "            if cutoff=='pad':\n",
    "                #pad at most 50% of the signal, dispose of the rest\n",
    "                if len(segment) < 0.5*sample_len:\n",
    "                    break\n",
    "                # Pad Length\n",
    "                pad_len = sample_len - len(segment)\n",
    "                # Pad with 0s\n",
    "                pad = np.zeros(pad_len)\n",
    "                segment = np.concatenate((segment,pad), axis=0)\n",
    "            elif cutoff=='leave':\n",
    "                segment = audio[start_time:len(audio)]\n",
    "            elif cutoff=='crop':\n",
    "                break\n",
    "\n",
    "        emb_array.append(jukemirlib.extract(audio=segment.flatten(), layers=[36], meanpool=meanpool_bool)[36])\n",
    "    return emb_array"
   ]
  },
  {
   "cell_type": "markdown",
   "metadata": {},
   "source": [
    "# Get Files"
   ]
  },
  {
   "cell_type": "code",
   "execution_count": null,
   "metadata": {},
   "outputs": [],
   "source": [
    "TRAIN_PATH = \"/home/cvillela/dataland/data/hanwha/training/source/\"\n",
    "VAL_PATH = \"/home/cvillela/dataland/data/hanwha/validation/source/\"\n",
    "\n",
    "file_paths = []\n",
    "for dirpath, dirnames, filenames in os.walk(TRAIN_PATH):\n",
    "        for file_name in filenames:\n",
    "            if file_name.endswith('.wav'):\n",
    "                file_paths.append(os.path.join(dirpath,file_name))\n",
    "for dirpath, dirnames, filenames in os.walk(VAL_PATH):\n",
    "        for file_name in filenames:\n",
    "            if file_name.endswith('.wav'):\n",
    "                file_paths.append(os.path.join(dirpath,file_name))\n",
    "print(f\"Listed {len(file_paths)} files\")           "
   ]
  },
  {
   "cell_type": "markdown",
   "metadata": {},
   "source": [
    "# Extract Embeddings"
   ]
  },
  {
   "cell_type": "code",
   "execution_count": null,
   "metadata": {},
   "outputs": [],
   "source": [
    "sample_duration = 5\n",
    "overlap = 0.1\n",
    "meanpool_bool = False\n",
    "cutoff = 'pad'\n",
    "batch_size = 4\n",
    "mult_factor = 100"
   ]
  },
  {
   "cell_type": "markdown",
   "metadata": {},
   "source": [
    "## Batched"
   ]
  },
  {
   "cell_type": "code",
   "execution_count": null,
   "metadata": {},
   "outputs": [],
   "source": [
    "i = 0\n",
    "emb_list = []\n",
    "sample_list = []\n",
    "\n",
    "for f in tqdm(file_paths):\n",
    "    sample_list = sample_list + extract_jukebox_samples(f, segment_length_s=sample_duration, overlap=overlap, cutoff='pad')\n",
    "    if len(sample_list) >= batch_size:\n",
    "        while len(sample_list) >= batch_size:\n",
    "            curr_batch = []\n",
    "            for _ in range(batch_size):\n",
    "                curr_batch.append(sample_list.pop())\n",
    "            emb_list.append(batch_extract_jukebox(curr_batch, meanpool=meanpool_bool, mult_factor = mult_factor))\n",
    "    if len(emb_list) > 1000:\n",
    "        i+=1\n",
    "        emb_list = np.vstack(emb_list)\n",
    "        np.save(f\"/home/cvillela/dataland/data/hanwha/embeddings/jukebox_m{mult_factor}_{i}.npy\", emb_list)\n",
    "        emb_list = []\n",
    "        break\n",
    "    \n",
    "if len(sample_list)>0:\n",
    "    i+=1\n",
    "    emb_list.append(batch_extract_jukebox(curr_batch, meanpool=meanpool_bool, mult_factor = mult_factor))\n",
    "    emb_list = np.vstack(emb_list)\n",
    "    np.save(f\"/home/cvillela/dataland/data/hanwha/embeddings/jukebox_m{mult_factor}_{i}.npy\", emb_list)\n",
    "    emb_list = []"
   ]
  },
  {
   "cell_type": "markdown",
   "metadata": {},
   "source": [
    "## One by one"
   ]
  },
  {
   "cell_type": "code",
   "execution_count": null,
   "metadata": {},
   "outputs": [],
   "source": [
    "emb_list = []\n",
    "for f in tqdm(file_paths):\n",
    "    emb_list = emb_list + extract_jukebox_embeddings(f, segment_length_s=sample_duration, overlap=overlap, cutoff='crop', meanpool_bool=meanpool_bool)"
   ]
  },
  {
   "cell_type": "code",
   "execution_count": null,
   "metadata": {},
   "outputs": [],
   "source": [
    "embs = np.vstack(emb_list)\n",
    "embs.shape"
   ]
  },
  {
   "cell_type": "code",
   "execution_count": null,
   "metadata": {},
   "outputs": [],
   "source": [
    "embs = np.vstack(emb_list)\n",
    "np.save(\"/home/cvillela/dataland/data/hanwha/embeddings/\",embs)"
   ]
  },
  {
   "cell_type": "code",
   "execution_count": null,
   "metadata": {},
   "outputs": [],
   "source": [
    "csv_dir = \"/home/cvillela/dataland/umapper/data/hanwha/\" \n",
    "file_paths = [\n",
    "        # File paths...\n",
    "       \"/home/cvillela/dataland/umapper/data/hanwha/search_1.npy\",\n",
    "       \"/home/cvillela/dataland/umapper/data/hanwha/search_2.npy\",\n",
    "       \"/home/cvillela/dataland/umapper/data/hanwha/search_3.npy\",\n",
    "       \"/home/cvillela/dataland/umapper/data/hanwha/search_4.npy\",\n",
    "       \"/home/cvillela/dataland/umapper/data/hanwha/search_5.npy\",\n",
    "       \"/home/cvillela/dataland/umapper/data/hanwha/search_6.npy\",\n",
    "       \n",
    "    ]"
   ]
  },
  {
   "cell_type": "code",
   "execution_count": null,
   "metadata": {},
   "outputs": [],
   "source": [
    "import numpy as np"
   ]
  },
  {
   "cell_type": "code",
   "execution_count": null,
   "metadata": {},
   "outputs": [],
   "source": [
    "for f in file_paths:\n",
    "    arr = np.load(f)\n",
    "    np.savetxt(f.split('.')[0]+'.csv', arr, delimiter=\",\")"
   ]
  },
  {
   "cell_type": "code",
   "execution_count": null,
   "metadata": {},
   "outputs": [],
   "source": []
  }
 ],
 "metadata": {
  "kernelspec": {
   "display_name": "Python 3 (ipykernel)",
   "language": "python",
   "name": "python3"
  },
  "language_info": {
   "codemirror_mode": {
    "name": "ipython",
    "version": 3
   },
   "file_extension": ".py",
   "mimetype": "text/x-python",
   "name": "python",
   "nbconvert_exporter": "python",
   "pygments_lexer": "ipython3",
   "version": "3.11.5"
  }
 },
 "nbformat": 4,
 "nbformat_minor": 4
}
